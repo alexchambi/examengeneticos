{
 "cells": [
  {
   "cell_type": "code",
   "execution_count": 216,
   "metadata": {},
   "outputs": [],
   "source": [
    "import numpy as np\n",
    "import random\n",
    "\n",
    "fam = 6\n",
    "genes = 12"
   ]
  },
  {
   "cell_type": "markdown",
   "metadata": {},
   "source": [
    "\n",
    "## {0, 1, 1, 0, 0, 1, 0, 1, 0, 0, 0, 0}\n",
    "### Primer digito es el signo: si es 1 es positivo, 0 negativo\n",
    "### Los demas digitos son una representacion de los binarios de 2^11 = 2048\n",
    "### Se divido los digitos en 1000 para la representacion de -2.048 <= x <= 2.048\n"
   ]
  },
  {
   "cell_type": "code",
   "execution_count": 217,
   "metadata": {},
   "outputs": [],
   "source": [
    "def crear_poblacion(num_poblacion, genes):\n",
    "    poblacion = []\n",
    "    for i in range(num_poblacion):\n",
    "        familias = []\n",
    "        for j in range(genes):\n",
    "            familias.append(random.randint(0,1))\n",
    "        poblacion.append(familias)\n",
    "    \n",
    "    return poblacion\n"
   ]
  },
  {
   "cell_type": "code",
   "execution_count": 218,
   "metadata": {},
   "outputs": [],
   "source": [
    "def calcular_fitnes(poblacion, fam, genes):\n",
    "    fitnes = []\n",
    "    \n",
    "   \n",
    "    for i in range(fam):\n",
    "        real = 0\n",
    "        temp = genes\n",
    "        \n",
    "        for j in range(genes):\n",
    "            #print(\"[\",poblacion[i][j],\"]\")\n",
    "            if j==0:\n",
    "                if poblacion[i][j]==1:\n",
    "                    signo = 1\n",
    "                else:\n",
    "                    signo = -1\n",
    "                    \n",
    "                temp = temp -1\n",
    "                #print(\"Signo\",signo)\n",
    "            else:\n",
    "                real = real + np.power(2,temp)*poblacion[i][j]\n",
    "                #print(\"Num: \",real)\n",
    "                temp = temp -1\n",
    "        real = real*signo\n",
    "        #print(real)\n",
    "        #print(\"--------------------------------\")\n",
    "            \n",
    "        \n",
    "        fitnes.append(real)\n",
    "        \n",
    "    for i in range(fam):\n",
    "        if fitnes[i]>=0:\n",
    "            if fitnes[i] >= 1000:\n",
    "                fitnes[i] = fitnes[i] / 1000\n",
    "            else:\n",
    "                if fitnes[i]>=100:\n",
    "                    fitnes[i] = fitnes[i] / 1000\n",
    "                else:\n",
    "                    fitnes[i] = fitnes[i] / 100\n",
    "        else:\n",
    "            if fitnes[i] <= -1000:\n",
    "                fitnes[i] = fitnes[i] / 1000\n",
    "            else:\n",
    "                if fitnes[i]<=-100:\n",
    "                    fitnes[i] = fitnes[i] / 1000\n",
    "                else:\n",
    "                    fitnes[i] = fitnes[i] / 10\n",
    "    #print(\"####################################################\")\n",
    "    return poblacion, fitnes"
   ]
  },
  {
   "cell_type": "code",
   "execution_count": 224,
   "metadata": {},
   "outputs": [],
   "source": [
    "def mostrar_individuos(xn, fitnesxn):\n",
    "    for i in range(len(fitnesxn)):\n",
    "        print(\"Individuo\",i,\":\",xn[i], \"Fitness : \", fitnesxn[i])\n",
    "    return xn, fitnesxn\n",
    "\n",
    "def elegir_individuos(xn, fitnesxn):\n",
    "    rango_max = 2.048\n",
    "    rango_min = -2.048\n",
    "    \n",
    "    nueva_xn = []\n",
    "    nueva_fitnesxn = []\n",
    "    \n",
    "    \n",
    "    for i in range(len(fitnesxn)):\n",
    "        if fitnesxn[i] < rango_max and fitnesxn[i] >= rango_min:\n",
    "            print(\"Individuo\",i,\":\",xn[i], \"Fitness : \", fitnesxn[i], \"\\tSeleccionado\")\n",
    "            nueva_xn.append(xn[i])\n",
    "            nueva_fitnesxn.append(fitnesxn[i])\n",
    "        else:\n",
    "            print(\"Individuo\",i,\":\",xn[i], \"Fitness : \", fitnesxn[i], \"\\tMuere\")\n",
    "            \n",
    "    return nueva_xn, nueva_fitnesxn\n",
    "\n",
    "    "
   ]
  },
  {
   "cell_type": "code",
   "execution_count": 226,
   "metadata": {},
   "outputs": [
    {
     "name": "stdout",
     "output_type": "stream",
     "text": [
      "x1\n",
      "Individuo 0 : [0, 0, 1, 1, 1, 1, 0, 0, 1, 0, 0, 0] Fitness :  -1.936\n",
      "Individuo 1 : [0, 0, 0, 0, 1, 1, 1, 0, 1, 1, 1, 0] Fitness :  -0.476\n",
      "Individuo 2 : [1, 0, 0, 1, 1, 1, 0, 1, 1, 1, 0, 1] Fitness :  0.954\n",
      "Individuo 3 : [1, 1, 0, 0, 1, 0, 0, 1, 0, 1, 1, 0] Fitness :  2.348\n",
      "Individuo 4 : [0, 1, 1, 0, 0, 1, 0, 1, 0, 1, 1, 0] Fitness :  -3.244\n",
      "Individuo 5 : [1, 0, 0, 0, 1, 0, 0, 0, 1, 1, 0, 0] Fitness :  0.28\n",
      "x2\n",
      "Individuo 0 : [1, 0, 1, 1, 0, 0, 0, 1, 0, 1, 1, 0] Fitness :  1.58\n",
      "Individuo 1 : [0, 0, 1, 1, 1, 1, 0, 0, 1, 1, 0, 1] Fitness :  -1.946\n",
      "Individuo 2 : [0, 0, 0, 0, 1, 1, 1, 0, 0, 0, 1, 0] Fitness :  -0.452\n",
      "Individuo 3 : [1, 1, 0, 1, 0, 0, 0, 1, 0, 1, 0, 0] Fitness :  2.6\n",
      "Individuo 4 : [0, 1, 0, 1, 1, 1, 0, 1, 0, 0, 0, 1] Fitness :  -2.978\n",
      "Individuo 5 : [1, 1, 0, 1, 1, 0, 1, 1, 0, 1, 1, 0] Fitness :  2.924\n",
      "x1\n",
      "Individuo 0 : [0, 0, 1, 1, 1, 1, 0, 0, 1, 0, 0, 0] Fitness :  -1.936 \tSeleccionado\n",
      "Individuo 1 : [0, 0, 0, 0, 1, 1, 1, 0, 1, 1, 1, 0] Fitness :  -0.476 \tSeleccionado\n",
      "Individuo 2 : [1, 0, 0, 1, 1, 1, 0, 1, 1, 1, 0, 1] Fitness :  0.954 \tSeleccionado\n",
      "Individuo 3 : [1, 1, 0, 0, 1, 0, 0, 1, 0, 1, 1, 0] Fitness :  2.348 \tMuere\n",
      "Individuo 4 : [0, 1, 1, 0, 0, 1, 0, 1, 0, 1, 1, 0] Fitness :  -3.244 \tMuere\n",
      "Individuo 5 : [1, 0, 0, 0, 1, 0, 0, 0, 1, 1, 0, 0] Fitness :  0.28 \tSeleccionado\n",
      "x2\n",
      "Individuo 0 : [1, 0, 1, 1, 0, 0, 0, 1, 0, 1, 1, 0] Fitness :  1.58 \tSeleccionado\n",
      "Individuo 1 : [0, 0, 1, 1, 1, 1, 0, 0, 1, 1, 0, 1] Fitness :  -1.946 \tSeleccionado\n",
      "Individuo 2 : [0, 0, 0, 0, 1, 1, 1, 0, 0, 0, 1, 0] Fitness :  -0.452 \tSeleccionado\n",
      "Individuo 3 : [1, 1, 0, 1, 0, 0, 0, 1, 0, 1, 0, 0] Fitness :  2.6 \tMuere\n",
      "Individuo 4 : [0, 1, 0, 1, 1, 1, 0, 1, 0, 0, 0, 1] Fitness :  -2.978 \tMuere\n",
      "Individuo 5 : [1, 1, 0, 1, 1, 0, 1, 1, 0, 1, 1, 0] Fitness :  2.924 \tMuere\n"
     ]
    },
    {
     "ename": "IndexError",
     "evalue": "list index out of range",
     "output_type": "error",
     "traceback": [
      "\u001b[0;31m---------------------------------------------------------------------------\u001b[0m",
      "\u001b[0;31mIndexError\u001b[0m                                Traceback (most recent call last)",
      "\u001b[0;32m<ipython-input-226-765faa81e473>\u001b[0m in \u001b[0;36m<module>\u001b[0;34m\u001b[0m\n\u001b[1;32m      6\u001b[0m \u001b[0;34m\u001b[0m\u001b[0m\n\u001b[1;32m      7\u001b[0m \u001b[0;32mfor\u001b[0m \u001b[0mi\u001b[0m \u001b[0;32min\u001b[0m \u001b[0mrange\u001b[0m\u001b[0;34m(\u001b[0m\u001b[0mepocas\u001b[0m\u001b[0;34m)\u001b[0m\u001b[0;34m:\u001b[0m\u001b[0;34m\u001b[0m\u001b[0;34m\u001b[0m\u001b[0m\n\u001b[0;32m----> 8\u001b[0;31m     \u001b[0mx1\u001b[0m\u001b[0;34m,\u001b[0m \u001b[0mfitnesx1\u001b[0m \u001b[0;34m=\u001b[0m \u001b[0mcalcular_fitnes\u001b[0m\u001b[0;34m(\u001b[0m\u001b[0mx1\u001b[0m\u001b[0;34m,\u001b[0m \u001b[0mfam\u001b[0m\u001b[0;34m,\u001b[0m \u001b[0mgenes\u001b[0m\u001b[0;34m)\u001b[0m\u001b[0;34m\u001b[0m\u001b[0;34m\u001b[0m\u001b[0m\n\u001b[0m\u001b[1;32m      9\u001b[0m     \u001b[0mx2\u001b[0m\u001b[0;34m,\u001b[0m \u001b[0mfitnesx2\u001b[0m \u001b[0;34m=\u001b[0m \u001b[0mcalcular_fitnes\u001b[0m\u001b[0;34m(\u001b[0m\u001b[0mx2\u001b[0m\u001b[0;34m,\u001b[0m \u001b[0mfam\u001b[0m\u001b[0;34m,\u001b[0m \u001b[0mgenes\u001b[0m\u001b[0;34m)\u001b[0m\u001b[0;34m\u001b[0m\u001b[0;34m\u001b[0m\u001b[0m\n\u001b[1;32m     10\u001b[0m     \u001b[0mprint\u001b[0m\u001b[0;34m(\u001b[0m\u001b[0;34m\"x1\"\u001b[0m\u001b[0;34m)\u001b[0m\u001b[0;34m\u001b[0m\u001b[0;34m\u001b[0m\u001b[0m\n",
      "\u001b[0;32m<ipython-input-218-ee4e597af1c5>\u001b[0m in \u001b[0;36mcalcular_fitnes\u001b[0;34m(poblacion, fam, genes)\u001b[0m\n\u001b[1;32m     10\u001b[0m             \u001b[0;31m#print(\"[\",poblacion[i][j],\"]\")\u001b[0m\u001b[0;34m\u001b[0m\u001b[0;34m\u001b[0m\u001b[0;34m\u001b[0m\u001b[0m\n\u001b[1;32m     11\u001b[0m             \u001b[0;32mif\u001b[0m \u001b[0mj\u001b[0m\u001b[0;34m==\u001b[0m\u001b[0;36m0\u001b[0m\u001b[0;34m:\u001b[0m\u001b[0;34m\u001b[0m\u001b[0;34m\u001b[0m\u001b[0m\n\u001b[0;32m---> 12\u001b[0;31m                 \u001b[0;32mif\u001b[0m \u001b[0mpoblacion\u001b[0m\u001b[0;34m[\u001b[0m\u001b[0mi\u001b[0m\u001b[0;34m]\u001b[0m\u001b[0;34m[\u001b[0m\u001b[0mj\u001b[0m\u001b[0;34m]\u001b[0m\u001b[0;34m==\u001b[0m\u001b[0;36m1\u001b[0m\u001b[0;34m:\u001b[0m\u001b[0;34m\u001b[0m\u001b[0;34m\u001b[0m\u001b[0m\n\u001b[0m\u001b[1;32m     13\u001b[0m                     \u001b[0msigno\u001b[0m \u001b[0;34m=\u001b[0m \u001b[0;36m1\u001b[0m\u001b[0;34m\u001b[0m\u001b[0;34m\u001b[0m\u001b[0m\n\u001b[1;32m     14\u001b[0m                 \u001b[0;32melse\u001b[0m\u001b[0;34m:\u001b[0m\u001b[0;34m\u001b[0m\u001b[0;34m\u001b[0m\u001b[0m\n",
      "\u001b[0;31mIndexError\u001b[0m: list index out of range"
     ]
    }
   ],
   "source": [
    "epocas = 2\n",
    "\n",
    "x1 = crear_poblacion(fam, genes)\n",
    "x2 = crear_poblacion(fam, genes)\n",
    "\n",
    "\n",
    "for i in range(epocas):\n",
    "    x1, fitnesx1 = calcular_fitnes(x1, fam, genes)\n",
    "    x2, fitnesx2 = calcular_fitnes(x2, fam, genes)\n",
    "    print(\"x1\")\n",
    "    mostrar_individuos(x1, fitnesx1)\n",
    "    print(\"x2\")\n",
    "    mostrar_individuos(x2, fitnesx2)\n",
    "    \n",
    "    print(\"x1\")\n",
    "    x1, fitnesx1 = elegir_individuos(x1, fitnesx1)\n",
    "    print(\"x2\")\n",
    "    x2, fitnesx2 = elegir_individuos(x2, fitnesx2)\n",
    "    "
   ]
  },
  {
   "cell_type": "code",
   "execution_count": 204,
   "metadata": {},
   "outputs": [],
   "source": []
  },
  {
   "cell_type": "code",
   "execution_count": null,
   "metadata": {},
   "outputs": [],
   "source": [
    "\n"
   ]
  },
  {
   "cell_type": "code",
   "execution_count": null,
   "metadata": {},
   "outputs": [],
   "source": []
  },
  {
   "cell_type": "code",
   "execution_count": null,
   "metadata": {},
   "outputs": [],
   "source": []
  },
  {
   "cell_type": "code",
   "execution_count": null,
   "metadata": {},
   "outputs": [],
   "source": []
  },
  {
   "cell_type": "code",
   "execution_count": null,
   "metadata": {},
   "outputs": [],
   "source": []
  },
  {
   "cell_type": "code",
   "execution_count": null,
   "metadata": {},
   "outputs": [],
   "source": []
  },
  {
   "cell_type": "code",
   "execution_count": null,
   "metadata": {},
   "outputs": [],
   "source": []
  }
 ],
 "metadata": {
  "kernelspec": {
   "display_name": "Python 3",
   "language": "python",
   "name": "python3"
  },
  "language_info": {
   "codemirror_mode": {
    "name": "ipython",
    "version": 3
   },
   "file_extension": ".py",
   "mimetype": "text/x-python",
   "name": "python",
   "nbconvert_exporter": "python",
   "pygments_lexer": "ipython3",
   "version": "3.7.3"
  }
 },
 "nbformat": 4,
 "nbformat_minor": 2
}
