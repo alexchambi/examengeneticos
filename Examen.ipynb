{
 "cells": [
  {
   "cell_type": "code",
   "execution_count": 282,
   "metadata": {},
   "outputs": [],
   "source": [
    "import numpy as np\n",
    "import random\n",
    "\n",
    "fam = 5\n",
    "genes = 12"
   ]
  },
  {
   "cell_type": "markdown",
   "metadata": {},
   "source": [
    "\n",
    "## {0, 1, 1, 0, 0, 1, 0, 1, 0, 0, 0, 0}\n",
    "### Primer digito es el signo: si es 1 es positivo, 0 negativo\n",
    "### Los demas digitos son una representacion de los binarios de 2^11 = 2048\n",
    "### Se divido los digitos en 1000 para la representacion de -2.048 <= x <= 2.048\n"
   ]
  },
  {
   "cell_type": "code",
   "execution_count": 283,
   "metadata": {},
   "outputs": [],
   "source": [
    "def crear_poblacion(num_poblacion, genes):\n",
    "    poblacion = []\n",
    "    for i in range(num_poblacion):\n",
    "        familias = []\n",
    "        for j in range(genes):\n",
    "            familias.append(random.randint(0,1))\n",
    "        poblacion.append(familias)\n",
    "    \n",
    "    return poblacion\n"
   ]
  },
  {
   "cell_type": "code",
   "execution_count": 305,
   "metadata": {},
   "outputs": [],
   "source": [
    "def calcular_fitnes(poblacion, fam, genes):\n",
    "    fitnes = []\n",
    "    \n",
    "   \n",
    "    for i in range(fam):\n",
    "        real = 0\n",
    "        temp = genes\n",
    "        \n",
    "        for j in range(genes):\n",
    "            #print(\"[\",poblacion[i][j],\"]\")\n",
    "            if j==0:\n",
    "                if poblacion[i][j]==1:\n",
    "                    signo = 1\n",
    "                else:\n",
    "                    signo = -1\n",
    "                    \n",
    "                temp = temp -1\n",
    "                #print(\"Signo\",signo)\n",
    "            else:\n",
    "                real = real + np.power(2,temp)*poblacion[i][j]\n",
    "                #print(\"Num: \",real)\n",
    "                temp = temp -1\n",
    "        real = real*signo\n",
    "        #print(real)\n",
    "        #print(\"--------------------------------\")\n",
    "            \n",
    "        \n",
    "        fitnes.append(real)\n",
    "        \n",
    "    for i in range(fam):\n",
    "        if fitnes[i]>=0:\n",
    "            if fitnes[i] >= 1000:\n",
    "                fitnes[i] = fitnes[i] / 1000\n",
    "            else:\n",
    "                if fitnes[i]>=100:\n",
    "                    fitnes[i] = fitnes[i] / 1000\n",
    "                else:\n",
    "                    fitnes[i] = fitnes[i] / 100\n",
    "        else:\n",
    "            if fitnes[i] <= -1000:\n",
    "                fitnes[i] = fitnes[i] / 1000\n",
    "            else:\n",
    "                if fitnes[i]<=-100:\n",
    "                    fitnes[i] = fitnes[i] / 1000\n",
    "                else:\n",
    "                    fitnes[i] = fitnes[i] / 10\n",
    "    #print(\"####################################################\")\n",
    "    return poblacion, fitnes"
   ]
  },
  {
   "cell_type": "code",
   "execution_count": 321,
   "metadata": {},
   "outputs": [],
   "source": [
    "x1 = crear_poblacion(fam, genes)\n",
    "x2 = crear_poblacion(fam, genes)"
   ]
  },
  {
   "cell_type": "code",
   "execution_count": 322,
   "metadata": {},
   "outputs": [],
   "source": [
    "x1, fitnesx1 = calcular_fitnes(x1, fam, genes)\n",
    "x2, fitnesx2 = calcular_fitnes(x2, fam, genes)"
   ]
  },
  {
   "cell_type": "code",
   "execution_count": 340,
   "metadata": {},
   "outputs": [],
   "source": [
    "def elegir_individuos(xn, fitnesxn):\n",
    "    \n",
    "    for i in range(len(fitnesxn)):\n",
    "        for j in range(genes):\n",
    "            print(\"\")\n",
    "    return 0\n",
    "    "
   ]
  },
  {
   "cell_type": "code",
   "execution_count": 341,
   "metadata": {},
   "outputs": [
    {
     "name": "stdout",
     "output_type": "stream",
     "text": [
      "0\n",
      "1\n",
      "2\n",
      "3\n",
      "4\n",
      "5\n",
      "6\n",
      "7\n",
      "8\n",
      "9\n",
      "10\n",
      "11\n",
      "0\n",
      "1\n",
      "2\n",
      "3\n",
      "4\n",
      "5\n",
      "6\n",
      "7\n",
      "8\n",
      "9\n",
      "10\n",
      "11\n",
      "0\n",
      "1\n",
      "2\n",
      "3\n",
      "4\n",
      "5\n",
      "6\n",
      "7\n",
      "8\n",
      "9\n",
      "10\n",
      "11\n",
      "0\n",
      "1\n",
      "2\n",
      "3\n",
      "4\n",
      "5\n",
      "6\n",
      "7\n",
      "8\n",
      "9\n",
      "10\n",
      "11\n",
      "0\n",
      "1\n",
      "2\n",
      "3\n",
      "4\n",
      "5\n",
      "6\n",
      "7\n",
      "8\n",
      "9\n",
      "10\n",
      "11\n"
     ]
    },
    {
     "data": {
      "text/plain": [
       "0"
      ]
     },
     "execution_count": 341,
     "metadata": {},
     "output_type": "execute_result"
    }
   ],
   "source": [
    "elegir_individuos(x1, fitnesx1)"
   ]
  },
  {
   "cell_type": "code",
   "execution_count": 325,
   "metadata": {},
   "outputs": [
    {
     "data": {
      "text/plain": [
       "[-2.02, -4.038, 3.284, 1.57, -0.418]"
      ]
     },
     "execution_count": 325,
     "metadata": {},
     "output_type": "execute_result"
    }
   ],
   "source": [
    "fitnesx1"
   ]
  },
  {
   "cell_type": "code",
   "execution_count": 326,
   "metadata": {},
   "outputs": [
    {
     "data": {
      "text/plain": [
       "[-0.936, -0.576, -1.2, -3.856, 1.898]"
      ]
     },
     "execution_count": 326,
     "metadata": {},
     "output_type": "execute_result"
    }
   ],
   "source": [
    "fitnesx2"
   ]
  },
  {
   "cell_type": "code",
   "execution_count": null,
   "metadata": {},
   "outputs": [],
   "source": []
  },
  {
   "cell_type": "code",
   "execution_count": null,
   "metadata": {},
   "outputs": [],
   "source": []
  }
 ],
 "metadata": {
  "kernelspec": {
   "display_name": "Python 3",
   "language": "python",
   "name": "python3"
  },
  "language_info": {
   "codemirror_mode": {
    "name": "ipython",
    "version": 3
   },
   "file_extension": ".py",
   "mimetype": "text/x-python",
   "name": "python",
   "nbconvert_exporter": "python",
   "pygments_lexer": "ipython3",
   "version": "3.7.3"
  }
 },
 "nbformat": 4,
 "nbformat_minor": 2
}
