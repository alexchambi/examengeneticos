{
 "cells": [
  {
   "cell_type": "code",
   "execution_count": 216,
   "metadata": {},
   "outputs": [],
   "source": [
    "import numpy as np\n",
    "import random\n",
    "\n",
    "fam = 6\n",
    "genes = 12"
   ]
  },
  {
   "cell_type": "markdown",
   "metadata": {},
   "source": [
    "\n",
    "## {0, 1, 1, 0, 0, 1, 0, 1, 0, 0, 0, 0}\n",
    "### Primer digito es el signo: si es 1 es positivo, 0 negativo\n",
    "### Los demas digitos son una representacion de los binarios de 2^11 = 2048\n",
    "### Se divido los digitos en 1000 para la representacion de -2.048 <= x <= 2.048\n"
   ]
  },
  {
   "cell_type": "code",
   "execution_count": 217,
   "metadata": {},
   "outputs": [],
   "source": [
    "def crear_poblacion(num_poblacion, genes):\n",
    "    poblacion = []\n",
    "    for i in range(num_poblacion):\n",
    "        familias = []\n",
    "        for j in range(genes):\n",
    "            familias.append(random.randint(0,1))\n",
    "        poblacion.append(familias)\n",
    "    \n",
    "    return poblacion\n"
   ]
  },
  {
   "cell_type": "code",
   "execution_count": 233,
   "metadata": {},
   "outputs": [],
   "source": [
    "def calcular_fitnes(poblacion):\n",
    "    fitnes = []\n",
    "    tam_fam = len(poblacion)\n",
    "    genes = 12\n",
    "   \n",
    "    for i in range(tam_fam):\n",
    "        real = 0\n",
    "        temp = genes\n",
    "        \n",
    "        for j in range(genes):\n",
    "            #print(\"[\",poblacion[i][j],\"]\")\n",
    "            if j==0:\n",
    "                if poblacion[i][j]==1:\n",
    "                    signo = 1\n",
    "                else:\n",
    "                    signo = -1\n",
    "                    \n",
    "                temp = temp -1\n",
    "                #print(\"Signo\",signo)\n",
    "            else:\n",
    "                real = real + np.power(2,temp)*poblacion[i][j]\n",
    "                #print(\"Num: \",real)\n",
    "                temp = temp -1\n",
    "        real = real*signo\n",
    "        #print(real)\n",
    "        #print(\"--------------------------------\")\n",
    "            \n",
    "        \n",
    "        fitnes.append(real)\n",
    "        \n",
    "    for i in range(tam_fam):\n",
    "        if fitnes[i]>=0:\n",
    "            if fitnes[i] >= 1000:\n",
    "                fitnes[i] = fitnes[i] / 1000\n",
    "            else:\n",
    "                if fitnes[i]>=100:\n",
    "                    fitnes[i] = fitnes[i] / 1000\n",
    "                else:\n",
    "                    fitnes[i] = fitnes[i] / 100\n",
    "        else:\n",
    "            if fitnes[i] <= -1000:\n",
    "                fitnes[i] = fitnes[i] / 1000\n",
    "            else:\n",
    "                if fitnes[i]<=-100:\n",
    "                    fitnes[i] = fitnes[i] / 1000\n",
    "                else:\n",
    "                    fitnes[i] = fitnes[i] / 10\n",
    "    #print(\"####################################################\")\n",
    "    return poblacion, fitnes"
   ]
  },
  {
   "cell_type": "code",
   "execution_count": 237,
   "metadata": {},
   "outputs": [],
   "source": [
    "def mostrar_individuos(xn, fitnesxn):\n",
    "    for i in range(len(fitnesxn)):\n",
    "        print(\"Individuo\",i,\":\",xn[i], \"Fitness : \", fitnesxn[i])\n",
    "    return xn, fitnesxn\n",
    "\n",
    "def elegir_individuos(xn, fitnesxn):\n",
    "    rango_max = 2.048\n",
    "    rango_min = -2.048\n",
    "    \n",
    "    nueva_xn = []\n",
    "    nueva_fitnesxn = []\n",
    "    \n",
    "    print(\"---------------------------Selecionar Individuos-----------------\")\n",
    "    \n",
    "    for i in range(len(fitnesxn)):\n",
    "        if fitnesxn[i] < rango_max and fitnesxn[i] >= rango_min:\n",
    "            print(\"Individuo\",i,\":\",xn[i], \"Fitness : \", fitnesxn[i], \"\\tSeleccionado\")\n",
    "            nueva_xn.append(xn[i])\n",
    "            nueva_fitnesxn.append(fitnesxn[i])\n",
    "        else:\n",
    "            print(\"Individuo\",i,\":\",xn[i], \"Fitness : \", fitnesxn[i], \"\\tMuere\")\n",
    "            \n",
    "    return nueva_xn, nueva_fitnesxn\n",
    "\n",
    "    "
   ]
  },
  {
   "cell_type": "code",
   "execution_count": 239,
   "metadata": {},
   "outputs": [
    {
     "name": "stdout",
     "output_type": "stream",
     "text": [
      "x1\n",
      "Individuo 0 : [0, 0, 1, 1, 1, 0, 1, 1, 0, 1, 1, 0] Fitness :  -1.9\n",
      "Individuo 1 : [0, 0, 1, 0, 1, 0, 1, 0, 0, 0, 0, 0] Fitness :  -1.344\n",
      "Individuo 2 : [0, 0, 0, 0, 1, 0, 0, 1, 1, 1, 1, 1] Fitness :  -0.318\n",
      "Individuo 3 : [1, 0, 1, 0, 1, 1, 0, 1, 0, 0, 1, 1] Fitness :  1.446\n",
      "Individuo 4 : [1, 0, 0, 1, 1, 0, 1, 1, 1, 1, 0, 1] Fitness :  0.89\n",
      "Individuo 5 : [0, 0, 1, 1, 1, 1, 1, 0, 0, 0, 0, 1] Fitness :  -1.986\n",
      "---------------------------Selecionar Individuos-----------------\n",
      "Individuo 0 : [0, 0, 1, 1, 1, 0, 1, 1, 0, 1, 1, 0] Fitness :  -1.9 \tSeleccionado\n",
      "Individuo 1 : [0, 0, 1, 0, 1, 0, 1, 0, 0, 0, 0, 0] Fitness :  -1.344 \tSeleccionado\n",
      "Individuo 2 : [0, 0, 0, 0, 1, 0, 0, 1, 1, 1, 1, 1] Fitness :  -0.318 \tSeleccionado\n",
      "Individuo 3 : [1, 0, 1, 0, 1, 1, 0, 1, 0, 0, 1, 1] Fitness :  1.446 \tSeleccionado\n",
      "Individuo 4 : [1, 0, 0, 1, 1, 0, 1, 1, 1, 1, 0, 1] Fitness :  0.89 \tSeleccionado\n",
      "Individuo 5 : [0, 0, 1, 1, 1, 1, 1, 0, 0, 0, 0, 1] Fitness :  -1.986 \tSeleccionado\n",
      "################################################\n",
      "x2\n",
      "Individuo 0 : [0, 0, 1, 0, 1, 1, 1, 1, 1, 1, 1, 0] Fitness :  -1.532\n",
      "Individuo 1 : [1, 1, 1, 0, 1, 0, 1, 1, 1, 0, 1, 1] Fitness :  3.446\n",
      "Individuo 2 : [1, 1, 1, 0, 1, 0, 1, 1, 1, 0, 0, 1] Fitness :  3.442\n",
      "Individuo 3 : [1, 1, 1, 0, 0, 1, 1, 0, 0, 1, 1, 0] Fitness :  3.276\n",
      "Individuo 4 : [0, 0, 1, 1, 1, 0, 0, 1, 1, 0, 0, 0] Fitness :  -1.84\n",
      "Individuo 5 : [1, 1, 1, 0, 0, 1, 1, 1, 0, 1, 1, 0] Fitness :  3.308\n",
      "---------------------------Selecionar Individuos-----------------\n",
      "Individuo 0 : [0, 0, 1, 0, 1, 1, 1, 1, 1, 1, 1, 0] Fitness :  -1.532 \tSeleccionado\n",
      "Individuo 1 : [1, 1, 1, 0, 1, 0, 1, 1, 1, 0, 1, 1] Fitness :  3.446 \tMuere\n",
      "Individuo 2 : [1, 1, 1, 0, 1, 0, 1, 1, 1, 0, 0, 1] Fitness :  3.442 \tMuere\n",
      "Individuo 3 : [1, 1, 1, 0, 0, 1, 1, 0, 0, 1, 1, 0] Fitness :  3.276 \tMuere\n",
      "Individuo 4 : [0, 0, 1, 1, 1, 0, 0, 1, 1, 0, 0, 0] Fitness :  -1.84 \tSeleccionado\n",
      "Individuo 5 : [1, 1, 1, 0, 0, 1, 1, 1, 0, 1, 1, 0] Fitness :  3.308 \tMuere\n",
      "x1\n",
      "Individuo 0 : [0, 0, 1, 1, 1, 0, 1, 1, 0, 1, 1, 0] Fitness :  -1.9\n",
      "Individuo 1 : [0, 0, 1, 0, 1, 0, 1, 0, 0, 0, 0, 0] Fitness :  -1.344\n",
      "Individuo 2 : [0, 0, 0, 0, 1, 0, 0, 1, 1, 1, 1, 1] Fitness :  -0.318\n",
      "Individuo 3 : [1, 0, 1, 0, 1, 1, 0, 1, 0, 0, 1, 1] Fitness :  1.446\n",
      "Individuo 4 : [1, 0, 0, 1, 1, 0, 1, 1, 1, 1, 0, 1] Fitness :  0.89\n",
      "Individuo 5 : [0, 0, 1, 1, 1, 1, 1, 0, 0, 0, 0, 1] Fitness :  -1.986\n",
      "---------------------------Selecionar Individuos-----------------\n",
      "Individuo 0 : [0, 0, 1, 1, 1, 0, 1, 1, 0, 1, 1, 0] Fitness :  -1.9 \tSeleccionado\n",
      "Individuo 1 : [0, 0, 1, 0, 1, 0, 1, 0, 0, 0, 0, 0] Fitness :  -1.344 \tSeleccionado\n",
      "Individuo 2 : [0, 0, 0, 0, 1, 0, 0, 1, 1, 1, 1, 1] Fitness :  -0.318 \tSeleccionado\n",
      "Individuo 3 : [1, 0, 1, 0, 1, 1, 0, 1, 0, 0, 1, 1] Fitness :  1.446 \tSeleccionado\n",
      "Individuo 4 : [1, 0, 0, 1, 1, 0, 1, 1, 1, 1, 0, 1] Fitness :  0.89 \tSeleccionado\n",
      "Individuo 5 : [0, 0, 1, 1, 1, 1, 1, 0, 0, 0, 0, 1] Fitness :  -1.986 \tSeleccionado\n",
      "################################################\n",
      "x2\n",
      "Individuo 0 : [0, 0, 1, 0, 1, 1, 1, 1, 1, 1, 1, 0] Fitness :  -1.532\n",
      "Individuo 1 : [0, 0, 1, 1, 1, 0, 0, 1, 1, 0, 0, 0] Fitness :  -1.84\n",
      "---------------------------Selecionar Individuos-----------------\n",
      "Individuo 0 : [0, 0, 1, 0, 1, 1, 1, 1, 1, 1, 1, 0] Fitness :  -1.532 \tSeleccionado\n",
      "Individuo 1 : [0, 0, 1, 1, 1, 0, 0, 1, 1, 0, 0, 0] Fitness :  -1.84 \tSeleccionado\n"
     ]
    }
   ],
   "source": [
    "epocas = 2\n",
    "\n",
    "x1 = crear_poblacion(fam, genes)\n",
    "x2 = crear_poblacion(fam, genes)\n",
    "\n",
    "\n",
    "for i in range(epocas):\n",
    "    x1, fitnesx1 = calcular_fitnes(x1)\n",
    "    x2, fitnesx2 = calcular_fitnes(x2)\n",
    "    print(\"x1\")\n",
    "    mostrar_individuos(x1, fitnesx1)\n",
    "    x1, fitnesx1 = elegir_individuos(x1, fitnesx1)\n",
    "    print(\"################################################\")\n",
    "    print(\"x2\")\n",
    "    mostrar_individuos(x2, fitnesx2)\n",
    "    x2, fitnesx2 = elegir_individuos(x2, fitnesx2)\n",
    "    "
   ]
  },
  {
   "cell_type": "code",
   "execution_count": null,
   "metadata": {},
   "outputs": [],
   "source": []
  },
  {
   "cell_type": "code",
   "execution_count": null,
   "metadata": {},
   "outputs": [],
   "source": [
    "\n"
   ]
  },
  {
   "cell_type": "code",
   "execution_count": null,
   "metadata": {},
   "outputs": [],
   "source": []
  },
  {
   "cell_type": "code",
   "execution_count": null,
   "metadata": {},
   "outputs": [],
   "source": []
  },
  {
   "cell_type": "code",
   "execution_count": null,
   "metadata": {},
   "outputs": [],
   "source": []
  },
  {
   "cell_type": "code",
   "execution_count": null,
   "metadata": {},
   "outputs": [],
   "source": []
  },
  {
   "cell_type": "code",
   "execution_count": null,
   "metadata": {},
   "outputs": [],
   "source": []
  },
  {
   "cell_type": "code",
   "execution_count": null,
   "metadata": {},
   "outputs": [],
   "source": []
  }
 ],
 "metadata": {
  "kernelspec": {
   "display_name": "Python 3",
   "language": "python",
   "name": "python3"
  },
  "language_info": {
   "codemirror_mode": {
    "name": "ipython",
    "version": 3
   },
   "file_extension": ".py",
   "mimetype": "text/x-python",
   "name": "python",
   "nbconvert_exporter": "python",
   "pygments_lexer": "ipython3",
   "version": "3.7.3"
  }
 },
 "nbformat": 4,
 "nbformat_minor": 2
}
